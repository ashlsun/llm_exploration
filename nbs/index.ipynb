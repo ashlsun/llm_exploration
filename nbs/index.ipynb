{
 "cells": [
  {
   "cell_type": "markdown",
   "metadata": {},
   "source": [
    "# Exploring Little* Language Models\n",
    "\n",
    "Welcome to my new blog! \n",
    "\n",
    "In the spirit of [literate programming](https://en.wikipedia.org/wiki/Literate_programming), I'll be posting about the process of running a fine-tuned LLM (large language model) entirely on my phone, and the things I learn along the way. \n",
    "\n",
    "LLMs are notoriously resource-intensive. They're usually trained and deployed on powerful hardware like GPUs, which are expensive and hard to come by. However, there are tools, techniques, and open-source models out there make it possible to run inference on the average personal device, like your phone!\n",
    "\n",
    "I don't have any prior experience in AI/ML. I'm taking a beginner-friendly class with [Chris Kroenke](https://enzokro.dev) as a part of [Fractal University](https://fractaluniversity.substack.com/) this fall. Let's figure this out together! \n",
    "\n",
    "---\n",
    "*speaking relatively lol\n"
   ]
  }
 ],
 "metadata": {
  "kernelspec": {
   "display_name": "python3",
   "language": "python",
   "name": "python3"
  }
 },
 "nbformat": 4,
 "nbformat_minor": 4
}
