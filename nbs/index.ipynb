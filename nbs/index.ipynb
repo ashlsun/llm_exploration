{
 "cells": [
  {
   "cell_type": "markdown",
   "metadata": {},
   "source": [
    "# welcome to my llm exploration site\n",
    "\n",
    "im learning about small large language models -\n",
    "im following the paradigm of literate programming and exploratory programming"
   ]
  }
 ],
 "metadata": {
  "kernelspec": {
   "display_name": "python3",
   "language": "python",
   "name": "python3"
  }
 },
 "nbformat": 4,
 "nbformat_minor": 4
}
